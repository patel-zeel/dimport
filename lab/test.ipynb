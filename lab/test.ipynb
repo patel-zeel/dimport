{
 "cells": [
  {
   "cell_type": "code",
   "execution_count": 1,
   "metadata": {},
   "outputs": [
    {
     "name": "stdout",
     "output_type": "stream",
     "text": [
      "import numpy as np\n",
      "import pandas as pd\n",
      "import matplotlib.pyplot as plt\n",
      "\n",
      "# Monitoring\n",
      "from tqdm.notebook import tqdm\n",
      "\n",
      "# IO\n",
      "import os\n",
      "from os.path import join, exists, basename, dirname\n",
      "from glob import glob\n",
      "\n",
      "# Parallel processing\n",
      "from joblib import Parallel, delayed\n",
      "\n",
      "import numpy as np\n",
      "import pandas as pd\n",
      "import matplotlib.pyplot as plt\n",
      "\n",
      "# Monitoring\n",
      "from tqdm.notebook import tqdm\n",
      "\n",
      "# IO\n",
      "import os\n",
      "from os.path import join, exists, basename, dirname\n",
      "from glob import glob\n",
      "\n",
      "# Parallel processing\n",
      "from joblib import Parallel, delayed\n",
      "\n",
      "# PIL\n",
      "from PIL import Image\n",
      "\n",
      "# torch\n",
      "import torch\n",
      "import torch.nn as nn\n",
      "import torch.optim as optim\n",
      "import torch.nn.functional as F\n",
      "from torch.utils.data import Dataset, DataLoader\n",
      "import torchvision.transforms as transforms\n",
      "import torchvision.models as models\n",
      "\n"
     ]
    }
   ],
   "source": [
    "from box import vision"
   ]
  }
 ],
 "metadata": {
  "kernelspec": {
   "display_name": "zeel_py310",
   "language": "python",
   "name": "python3"
  },
  "language_info": {
   "codemirror_mode": {
    "name": "ipython",
    "version": 3
   },
   "file_extension": ".py",
   "mimetype": "text/x-python",
   "name": "python",
   "nbconvert_exporter": "python",
   "pygments_lexer": "ipython3",
   "version": "3.10.12"
  }
 },
 "nbformat": 4,
 "nbformat_minor": 2
}
